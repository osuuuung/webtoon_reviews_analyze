{
 "cells": [
  {
   "cell_type": "code",
   "execution_count": 1,
   "id": "2efc67b7",
   "metadata": {},
   "outputs": [],
   "source": [
    "# 웹툰 titleid 리스트, 각 웹툰 화 개수 리스트\n",
    "titles = ['여름의 너에게','서울시 천사주의']\n",
    "titleids = [799220,799478]\n",
    "episode_counts = [44,49]"
   ]
  },
  {
   "cell_type": "code",
   "execution_count": 2,
   "id": "42da61a3",
   "metadata": {},
   "outputs": [],
   "source": [
    "# !pip install --upgrade selenium\n",
    "# !pip show selenium\n",
    "# !pip install openpyxl\n",
    "# !pip install --upgrade openpyxl\n",
    "import os\n",
    "from selenium import webdriver\n",
    "import time\n",
    "import pandas as pd\n",
    "import numpy as np\n",
    "from selenium.webdriver.common.by import By\n",
    "from selenium.webdriver.support.ui import WebDriverWait\n",
    "from selenium.webdriver.support import expected_conditions as EC\n",
    "from openpyxl import Workbook\n",
    "from selenium.webdriver.chrome.options import Options\n"
   ]
  },
  {
   "cell_type": "code",
   "execution_count": 3,
   "id": "ba9392e7",
   "metadata": {},
   "outputs": [],
   "source": [
    "# 페이지에서 더보기 버튼이 안나올때까지 버튼 누르고, 댓글 추출 함수\n",
    "def Click_Button_Collect_Review(title,titleid, episode, driver,df):\n",
    "    driver.get('https://comic.naver.com/webtoon/detail?titleId={}&no={}'.format(titleid,episode))\n",
    "    driver.find_element(By.XPATH,'//*[@id=\"cbox_module\"]/div/div[8]/a').click()\n",
    "    while True :\n",
    "        try:\n",
    "            view_more_button = WebDriverWait(driver, 5).until(EC.presence_of_element_located((By.XPATH, '//*[@id=\"cbox_module\"]/div/div[7]/a')))\n",
    "            view_more_button.click()\n",
    "            time.sleep(1)\n",
    "        except Exception as e :\n",
    "            break\n",
    "            \n",
    "    review_tags = driver.find_elements(By.XPATH,'//*[@id=\"cbox_module_wai_u_cbox_content_wrap_tabpanel\"]/ul/li/div[1]/div/div[2]/span[1]')\n",
    "    \n",
    "    episode_review_df = pd.DataFrame(columns=['title','episode','review'])\n",
    "    for review_tag in review_tags :\n",
    "        row = []\n",
    "        comment = review_tag.text\n",
    "        row = [title,episode,comment]\n",
    "        \n",
    "        df_row = pd.DataFrame(data = [row], columns=['title','episode','review'])\n",
    "        \n",
    "        episode_review_df = pd.concat([episode_review_df,df_row]) \n",
    "    return episode_review_df"
   ]
  },
  {
   "cell_type": "code",
   "execution_count": 6,
   "id": "51a05a96",
   "metadata": {
    "scrolled": true
   },
   "outputs": [
    {
     "name": "stdout",
     "output_type": "stream",
     "text": [
      "1화 완성\n",
      "2화 완성\n",
      "1화 완성\n",
      "2화 완성\n"
     ]
    }
   ],
   "source": [
    "# 드라이버 열고 웹툰의 개별 화에 접속하기위한 titleid와 episode 정보 정의\n",
    "\n",
    "driver = webdriver.Chrome()\n",
    "driver.implicitly_wait(5)\n",
    "i = 0\n",
    "\n",
    "for r in range(0,len(titleids)):\n",
    "    titleid = titleids[r]\n",
    "    title = titles[r]\n",
    "    df = pd.DataFrame(columns=['title','episode','review'])\n",
    "    \n",
    "    try:\n",
    "        for episode in range(1,3):\n",
    "            episode_review = Click_Button_Collect_Review(title, titleid, episode, driver,df)\n",
    "            df=pd.concat([df,episode_review])\n",
    "            print('{}화 완성'.format(episode))\n",
    "    finally:\n",
    "        df.to_excel('{}.xlsx'.format(title), sheet_name='{}화'.format(episode_counts[r]+1))\n",
    "    \n",
    "driver.quit()"
   ]
  },
  {
   "cell_type": "code",
   "execution_count": null,
   "id": "699c00e3",
   "metadata": {},
   "outputs": [],
   "source": []
  }
 ],
 "metadata": {
  "kernelspec": {
   "display_name": "Python 3 (ipykernel)",
   "language": "python",
   "name": "python3"
  },
  "language_info": {
   "codemirror_mode": {
    "name": "ipython",
    "version": 3
   },
   "file_extension": ".py",
   "mimetype": "text/x-python",
   "name": "python",
   "nbconvert_exporter": "python",
   "pygments_lexer": "ipython3",
   "version": "3.9.13"
  }
 },
 "nbformat": 4,
 "nbformat_minor": 5
}
