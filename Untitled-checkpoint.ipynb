{
 "cells": [
  {
   "cell_type": "code",
   "execution_count": 87,
   "id": "00193f83",
   "metadata": {},
   "outputs": [],
   "source": [
    "import os\n",
    "from bs4 import BeautifulSoup\n",
    "import time\n",
    "import pandas as pd\n",
    "import numpy as np\n",
    "from selenium.webdriver.common.by import By\n",
    "from selenium.common.exceptions import ElementNotVisibleException\n",
    "from selenium.webdriver.chrome.options import Options"
   ]
  },
  {
   "cell_type": "code",
   "execution_count": 88,
   "id": "960efc13",
   "metadata": {},
   "outputs": [],
   "source": [
    "options = Options()\n",
    "options.add_argument(\"--headless\")\n",
    "options.add_argument(\"window-size=1920,1080\")"
   ]
  },
  {
   "cell_type": "code",
   "execution_count": 3,
   "id": "9cb6f87a",
   "metadata": {},
   "outputs": [
    {
     "name": "stdout",
     "output_type": "stream",
     "text": [
      "Collecting selenium\n",
      "  Downloading selenium-4.10.0-py3-none-any.whl (6.7 MB)\n",
      "Collecting trio-websocket~=0.9\n",
      "  Downloading trio_websocket-0.10.3-py3-none-any.whl (17 kB)\n",
      "Collecting trio~=0.17\n",
      "  Downloading trio-0.22.1-py3-none-any.whl (399 kB)\n",
      "Requirement already satisfied: certifi>=2021.10.8 in c:\\users\\82107\\anaconda3\\lib\\site-packages (from selenium) (2021.10.8)\n",
      "Requirement already satisfied: urllib3[socks]<3,>=1.26 in c:\\users\\82107\\anaconda3\\lib\\site-packages (from selenium) (1.26.9)\n",
      "Requirement already satisfied: attrs>=20.1.0 in c:\\users\\82107\\anaconda3\\lib\\site-packages (from trio~=0.17->selenium) (21.4.0)\n",
      "Requirement already satisfied: idna in c:\\users\\82107\\anaconda3\\lib\\site-packages (from trio~=0.17->selenium) (3.3)\n",
      "Requirement already satisfied: sniffio in c:\\users\\82107\\anaconda3\\lib\\site-packages (from trio~=0.17->selenium) (1.2.0)\n",
      "Requirement already satisfied: sortedcontainers in c:\\users\\82107\\anaconda3\\lib\\site-packages (from trio~=0.17->selenium) (2.4.0)\n",
      "Collecting outcome\n",
      "  Downloading outcome-1.2.0-py2.py3-none-any.whl (9.7 kB)\n",
      "Collecting exceptiongroup>=1.0.0rc9\n",
      "  Downloading exceptiongroup-1.1.2-py3-none-any.whl (14 kB)\n",
      "Requirement already satisfied: cffi>=1.14 in c:\\users\\82107\\anaconda3\\lib\\site-packages (from trio~=0.17->selenium) (1.15.0)\n",
      "Requirement already satisfied: pycparser in c:\\users\\82107\\anaconda3\\lib\\site-packages (from cffi>=1.14->trio~=0.17->selenium) (2.21)\n",
      "Collecting wsproto>=0.14\n",
      "  Downloading wsproto-1.2.0-py3-none-any.whl (24 kB)\n",
      "Requirement already satisfied: PySocks!=1.5.7,<2.0,>=1.5.6 in c:\\users\\82107\\anaconda3\\lib\\site-packages (from urllib3[socks]<3,>=1.26->selenium) (1.7.1)\n",
      "Collecting h11<1,>=0.9.0\n",
      "  Using cached h11-0.14.0-py3-none-any.whl (58 kB)\n",
      "Installing collected packages: outcome, h11, exceptiongroup, wsproto, trio, trio-websocket, selenium\n",
      "Successfully installed exceptiongroup-1.1.2 h11-0.14.0 outcome-1.2.0 selenium-4.10.0 trio-0.22.1 trio-websocket-0.10.3 wsproto-1.2.0\n"
     ]
    }
   ],
   "source": [
    "!pip install selenium"
   ]
  },
  {
   "cell_type": "code",
   "execution_count": 58,
   "id": "18649351",
   "metadata": {},
   "outputs": [],
   "source": [
    "base_url = 'https://comic.naver.com/webtoon/weekday.nhn'"
   ]
  },
  {
   "cell_type": "code",
   "execution_count": 37,
   "id": "8bace8df",
   "metadata": {},
   "outputs": [],
   "source": [
    "os.chdir(\"C:\\\\Users\\\\82107\\\\pypy\\\\chromedriver_win32\")"
   ]
  },
  {
   "cell_type": "code",
   "execution_count": 54,
   "id": "58bd3399",
   "metadata": {},
   "outputs": [],
   "source": [
    "chrome_options = webdriver.ChromeOptions()\n",
    "chrome_options.add_argument('--no-proxy-server')"
   ]
  },
  {
   "cell_type": "code",
   "execution_count": 89,
   "id": "b85a2c58",
   "metadata": {},
   "outputs": [],
   "source": [
    "def drive(url):\n",
    "    driver = webdriver.Chrome(options=options) #driver 객체 불러옴\n",
    "    driver.implicitly_wait(3) # 3초 후에 작동하도록\n",
    "    driver.get(url) #url에 접속\n",
    "    driver.find_element(By.CSS_SELECTOR,'#cbox_module_wai_u_cbox_sort_option_tab2').click()\n",
    "    driver.implicitly_wait(5)\n",
    "    while True:\n",
    "        \n",
    "        # 예외처리 구문 - 더보기 광클하다가 없어서 에러 뜨면 while문을 나감(break)\n",
    "        try:\n",
    "            more = driver.find_element(By.CSS_SELECTOR,'.u_cbox_page_more')\n",
    "            more.click()\n",
    "            time.sleep(0.1)\n",
    "            \n",
    "        except:\n",
    "            break\n",
    "     # 1)작성자\n",
    "    # selenium으로 작성자 포함된 태그 모두 수집\n",
    "    #nicknames = driver.find_elements_by_css_selector('span.u_cbox_nick')\n",
    "    # 리스트에 텍스트만 담기 (리스트 컴프리핸션 문법)\n",
    "    #list_nicknames = [nick.text for nick in nicknames]\n",
    "\n",
    "    # 2)댓글 시간\n",
    "    # selenium으로 댓글 시간 포함된 태그 모두 수집\n",
    "    #datetimes = driver.find_elements_by_css_selector('span.u_cbox_date')\n",
    "    # 리스트에 텍스트만 담기 (리스트 컴프리핸션 문법)\n",
    "    #list_datetimes = [datetime.text for datetime in datetimes]\n",
    "\n",
    "    # 3)댓글 내용\n",
    "    # selenium으로 댓글내용 포함된 태그 모두 수집\n",
    "    contents = driver.find_elements(By.CSS_SELECTOR,'span.u_cbox_contents')\n",
    "    # 리스트에 텍스트만 담기 (리스트 컴프리핸션 문법)\n",
    "    list_contents = [content.text for content in contents]\n",
    "\n",
    "    goods = driver.find_elements(By.CSS_SELECTOR,'em.u_cbox_cnt_recomm')\n",
    "    list_goods = [good.text for good in goods]\n",
    "\n",
    "    # 4)작성자, 댓글 시간, 내용을 셋트로 취합\n",
    "    list_sum = list(zip(list_contents, list_goods))\n",
    "\n",
    "    # 드라이버 종료\n",
    "    driver.quit()\n",
    "    \n",
    "    # 함수를 종료하며 list_sum을 결과물로 제출\n",
    "    return list_sum"
   ]
  },
  {
   "cell_type": "code",
   "execution_count": null,
   "id": "d7e69e24",
   "metadata": {},
   "outputs": [],
   "source": []
  },
  {
   "cell_type": "code",
   "execution_count": 90,
   "id": "4cbc6ddc",
   "metadata": {},
   "outputs": [
    {
     "name": "stdout",
     "output_type": "stream",
     "text": [
      "                                                    내용 좋아요수\n",
      "0                                   정봉남이 이 게이는 얼마나 쎈거야    0\n",
      "1                                  바스코보다 약해! 이진성보다 느려!    0\n",
      "2                             왜 중간에 태성이 박지호 얼굴같냐 ㅋㅋㅋㅋㅋ    0\n",
      "3    해외에서 너클 한국 못들고온다 ㅡㅡ 내가 일본 가족여행가서 너클이랑 성인잡지 들고 ...    1\n",
      "4    이번화로 엔딩의 방향이 결정된 것 같다 격투기 선수가 된 한태성 \"청소년 여러분 적...    0\n",
      "..                                                 ...  ...\n",
      "471                                                  5    0\n",
      "472                                                개꿀잼    0\n",
      "473                                                 머노    0\n",
      "474                                                  1    0\n",
      "475                                                  1    0\n",
      "\n",
      "[476 rows x 2 columns]\n"
     ]
    }
   ],
   "source": [
    "\n",
    "if __name__ == '__main__': # 설명하자면 매우 길어져서 그냥 이렇게 사용하는 것을 권장\n",
    "    \n",
    "    # 원하는 웹툰 입력\n",
    "#     for i in range(1,501):\n",
    "#         url = 'https://comic.naver.com/webtoon/detail?titleId=597447&no={}'.format(i)\n",
    "    url = 'https://comic.naver.com/webtoon/detail?titleId=597447&no=496'\n",
    "    # 함수 실행\n",
    "    comments = drive(url)\n",
    "    \n",
    "    # 엑셀의 첫줄에 들어갈 컬럼명\n",
    "    col = ['내용','좋아요수']\n",
    "    \n",
    "    # pandas 데이터 프레임 형태로 가공\n",
    "    df = pd.DataFrame(comments, columns=col)\n",
    "    \n",
    "    print(df)\n",
    "    # 데이터 프레임을 엑셀로 저장 (파일명은 'news.xlsx', 시트명은 '뉴스 기사 제목')\n",
    "#     df.to_excel('freedraw.xlsx', sheet_name='{}화'.format(i))\n",
    "    df.to_excel('freedraw2.xlsx', sheet_name='496화')"
   ]
  },
  {
   "cell_type": "code",
   "execution_count": null,
   "id": "3f706950",
   "metadata": {},
   "outputs": [],
   "source": []
  }
 ],
 "metadata": {
  "kernelspec": {
   "display_name": "Python 3 (ipykernel)",
   "language": "python",
   "name": "python3"
  },
  "language_info": {
   "codemirror_mode": {
    "name": "ipython",
    "version": 3
   },
   "file_extension": ".py",
   "mimetype": "text/x-python",
   "name": "python",
   "nbconvert_exporter": "python",
   "pygments_lexer": "ipython3",
   "version": "3.9.13"
  }
 },
 "nbformat": 4,
 "nbformat_minor": 5
}
